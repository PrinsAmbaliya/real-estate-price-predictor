{
 "cells": [
  {
   "cell_type": "markdown",
   "id": "ce717371",
   "metadata": {},
   "source": [
    "# 🏡 Bangalore House Price Prediction\n",
    "End-to-End Machine Learning Project with Multiple Models & Graphical Representation"
   ]
  },
  {
   "cell_type": "code",
   "execution_count": null,
   "id": "25c1d634",
   "metadata": {},
   "outputs": [],
   "source": [
    "\n",
    "# 📦 Importing Libraries\n",
    "import pandas as pd\n",
    "import numpy as np\n",
    "import matplotlib.pyplot as plt\n",
    "import seaborn as sns\n",
    "\n",
    "from sklearn.model_selection import train_test_split, GridSearchCV\n",
    "from sklearn.linear_model import LinearRegression\n",
    "from sklearn.ensemble import RandomForestRegressor\n",
    "from xgboost import XGBRegressor, plot_importance\n",
    "from catboost import CatBoostRegressor\n",
    "\n",
    "from sklearn.metrics import r2_score, mean_absolute_error, mean_squared_error\n",
    "import warnings\n",
    "warnings.filterwarnings(\"ignore\")\n"
   ]
  },
  {
   "cell_type": "code",
   "execution_count": null,
   "id": "16648ce1",
   "metadata": {},
   "outputs": [],
   "source": [
    "\n",
    "# 📂 Load Dataset\n",
    "df = pd.read_csv(\"Bengaluru_House_Data.csv\")\n",
    "df.head()\n"
   ]
  },
  {
   "cell_type": "code",
   "execution_count": null,
   "id": "faafb0dd",
   "metadata": {},
   "outputs": [],
   "source": [
    "\n",
    "# 🔎 Dataset Overview\n",
    "print(\"Shape of dataset:\", df.shape)\n",
    "print(\"\\nColumn Info:\")\n",
    "print(df.info())\n",
    "print(\"\\nMissing Values:\")\n",
    "print(df.isnull().sum())\n",
    "df.describe()\n"
   ]
  },
  {
   "cell_type": "code",
   "execution_count": null,
   "id": "0055648b",
   "metadata": {},
   "outputs": [],
   "source": [
    "\n",
    "# 📊 Exploratory Data Analysis (EDA)\n",
    "\n",
    "# Price distribution\n",
    "plt.figure(figsize=(8,5))\n",
    "sns.histplot(df['price'], kde=True, bins=50)\n",
    "plt.title(\"Distribution of House Prices\")\n",
    "plt.show()\n",
    "\n",
    "# Correlation heatmap (numeric features only)\n",
    "plt.figure(figsize=(10,6))\n",
    "sns.heatmap(df.corr(), annot=True, cmap=\"coolwarm\")\n",
    "plt.title(\"Correlation Heatmap\")\n",
    "plt.show()\n"
   ]
  },
  {
   "cell_type": "code",
   "execution_count": null,
   "id": "d9524d2f",
   "metadata": {},
   "outputs": [],
   "source": [
    "\n",
    "# 🧹 Data Preprocessing (Example: dropping NA, encoding, etc.)\n",
    "df = df.dropna()\n",
    "# Example: convert categorical (location) into dummy vars\n",
    "if 'location' in df.columns:\n",
    "    df = pd.get_dummies(df, columns=['location'], drop_first=True)\n",
    "\n",
    "X = df.drop('price', axis=1)\n",
    "y = df['price']\n",
    "\n",
    "X_train, X_test, y_train, y_test = train_test_split(X, y, test_size=0.2, random_state=42)\n"
   ]
  },
  {
   "cell_type": "code",
   "execution_count": null,
   "id": "4fc76f8e",
   "metadata": {},
   "outputs": [],
   "source": [
    "\n",
    "# 🤖 Train Multiple Models\n",
    "\n",
    "results = {}\n",
    "\n",
    "# Linear Regression\n",
    "lr = LinearRegression()\n",
    "lr.fit(X_train, y_train)\n",
    "y_pred_lr = lr.predict(X_test)\n",
    "results['LinearRegression'] = [\n",
    "    r2_score(y_test, y_pred_lr),\n",
    "    mean_absolute_error(y_test, y_pred_lr),\n",
    "    np.sqrt(mean_squared_error(y_test, y_pred_lr))\n",
    "]\n",
    "\n",
    "# Random Forest\n",
    "rf = RandomForestRegressor(random_state=42)\n",
    "rf.fit(X_train, y_train)\n",
    "y_pred_rf = rf.predict(X_test)\n",
    "results['RandomForest'] = [\n",
    "    r2_score(y_test, y_pred_rf),\n",
    "    mean_absolute_error(y_test, y_pred_rf),\n",
    "    np.sqrt(mean_squared_error(y_test, y_pred_rf))\n",
    "]\n",
    "\n",
    "# XGBoost with basic tuning\n",
    "xgb = XGBRegressor(random_state=42, n_estimators=300, max_depth=6, learning_rate=0.1)\n",
    "xgb.fit(X_train, y_train)\n",
    "y_pred_xgb = xgb.predict(X_test)\n",
    "results['XGBoost'] = [\n",
    "    r2_score(y_test, y_pred_xgb),\n",
    "    mean_absolute_error(y_test, y_pred_xgb),\n",
    "    np.sqrt(mean_squared_error(y_test, y_pred_xgb))\n",
    "]\n",
    "\n",
    "# CatBoost\n",
    "cat = CatBoostRegressor(verbose=0, random_state=42, iterations=500, learning_rate=0.1, depth=6)\n",
    "cat.fit(X_train, y_train)\n",
    "y_pred_cat = cat.predict(X_test)\n",
    "results['CatBoost'] = [\n",
    "    r2_score(y_test, y_pred_cat),\n",
    "    mean_absolute_error(y_test, y_pred_cat),\n",
    "    np.sqrt(mean_squared_error(y_test, y_pred_cat))\n",
    "]\n",
    "\n",
    "# Convert results to DataFrame\n",
    "results_df = pd.DataFrame(results, index=['R2 Score','MAE','RMSE']).T\n",
    "results_df\n"
   ]
  },
  {
   "cell_type": "code",
   "execution_count": null,
   "id": "4a576414",
   "metadata": {},
   "outputs": [],
   "source": [
    "\n",
    "# 📈 Model Performance Comparison\n",
    "results_df.plot(kind='bar', figsize=(10,6))\n",
    "plt.title(\"Model Performance Comparison\")\n",
    "plt.ylabel(\"Score / Error\")\n",
    "plt.xticks(rotation=45)\n",
    "plt.show()\n"
   ]
  },
  {
   "cell_type": "code",
   "execution_count": null,
   "id": "04edae79",
   "metadata": {},
   "outputs": [],
   "source": [
    "\n",
    "# 🌟 Feature Importance (XGBoost)\n",
    "plt.figure(figsize=(10,6))\n",
    "plot_importance(xgb, max_num_features=15)\n",
    "plt.show()\n"
   ]
  },
  {
   "cell_type": "code",
   "execution_count": null,
   "id": "68b1e6b2",
   "metadata": {},
   "outputs": [],
   "source": [
    "\n",
    "# 📉 Error Analysis (Actual vs Predicted)\n",
    "plt.figure(figsize=(8,6))\n",
    "plt.scatter(y_test, y_pred_xgb, alpha=0.5)\n",
    "plt.xlabel(\"Actual Prices\")\n",
    "plt.ylabel(\"Predicted Prices\")\n",
    "plt.title(\"Actual vs Predicted (XGBoost)\")\n",
    "plt.show()\n",
    "\n",
    "# Error distribution\n",
    "errors = y_test - y_pred_xgb\n",
    "plt.figure(figsize=(8,6))\n",
    "sns.histplot(errors, bins=50, kde=True)\n",
    "plt.title(\"Error Distribution (XGBoost)\")\n",
    "plt.show()\n"
   ]
  }
 ],
 "metadata": {},
 "nbformat": 4,
 "nbformat_minor": 5
}
